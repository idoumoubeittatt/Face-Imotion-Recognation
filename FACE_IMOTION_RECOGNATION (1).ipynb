{
  "cells": [
    {
      "cell_type": "code",
      "execution_count": null,
      "metadata": {
        "colab": {
          "base_uri": "https://localhost:8080/"
        },
        "id": "zhwRDnvlSJMN",
        "outputId": "49f9520f-23e1-48c1-ddb9-3d710097ed23"
      },
      "outputs": [
        {
          "name": "stdout",
          "output_type": "stream",
          "text": [
            "Collecting opendatasets\n",
            "  Downloading opendatasets-0.1.22-py3-none-any.whl (15 kB)\n",
            "Requirement already satisfied: tqdm in /usr/local/lib/python3.10/dist-packages (from opendatasets) (4.66.1)\n",
            "Requirement already satisfied: kaggle in /usr/local/lib/python3.10/dist-packages (from opendatasets) (1.5.16)\n",
            "Requirement already satisfied: click in /usr/local/lib/python3.10/dist-packages (from opendatasets) (8.1.7)\n",
            "Requirement already satisfied: six>=1.10 in /usr/local/lib/python3.10/dist-packages (from kaggle->opendatasets) (1.16.0)\n",
            "Requirement already satisfied: certifi in /usr/local/lib/python3.10/dist-packages (from kaggle->opendatasets) (2023.7.22)\n",
            "Requirement already satisfied: python-dateutil in /usr/local/lib/python3.10/dist-packages (from kaggle->opendatasets) (2.8.2)\n",
            "Requirement already satisfied: requests in /usr/local/lib/python3.10/dist-packages (from kaggle->opendatasets) (2.31.0)\n",
            "Requirement already satisfied: python-slugify in /usr/local/lib/python3.10/dist-packages (from kaggle->opendatasets) (8.0.1)\n",
            "Requirement already satisfied: urllib3 in /usr/local/lib/python3.10/dist-packages (from kaggle->opendatasets) (2.0.7)\n",
            "Requirement already satisfied: bleach in /usr/local/lib/python3.10/dist-packages (from kaggle->opendatasets) (6.1.0)\n",
            "Requirement already satisfied: webencodings in /usr/local/lib/python3.10/dist-packages (from bleach->kaggle->opendatasets) (0.5.1)\n",
            "Requirement already satisfied: text-unidecode>=1.3 in /usr/local/lib/python3.10/dist-packages (from python-slugify->kaggle->opendatasets) (1.3)\n",
            "Requirement already satisfied: charset-normalizer<4,>=2 in /usr/local/lib/python3.10/dist-packages (from requests->kaggle->opendatasets) (3.3.1)\n",
            "Requirement already satisfied: idna<4,>=2.5 in /usr/local/lib/python3.10/dist-packages (from requests->kaggle->opendatasets) (3.4)\n",
            "Installing collected packages: opendatasets\n",
            "Successfully installed opendatasets-0.1.22\n"
          ]
        }
      ],
      "source": [
        "!pip install opendatasets\n",
        "import pandas as pd\n",
        "import numpy as np\n",
        "import os\n",
        "from torch import nn\n",
        "import matplotlib.pyplot as plt\n",
        "import seaborn as sns\n",
        "import warnings\n",
        "warnings.filterwarnings('ignore')\n",
        "import torch\n",
        "import torchvision.transforms as transforms\n",
        "from torchvision.datasets import ImageFolder\n",
        "from torch.utils.data import DataLoader\n",
        "import matplotlib.pyplot as plt"
      ]
    },
    {
      "cell_type": "code",
      "execution_count": null,
      "metadata": {
        "colab": {
          "base_uri": "https://localhost:8080/"
        },
        "id": "zvoGKH3ESNPt",
        "outputId": "bd95261e-7c2a-4900-9470-da704bd49095"
      },
      "outputs": [
        {
          "name": "stdout",
          "output_type": "stream",
          "text": [
            "Please provide your Kaggle credentials to download this dataset. Learn more: http://bit.ly/kaggle-creds\n",
            "Your Kaggle username: idoumouahmed\n",
            "Your Kaggle Key: ··········\n",
            "Downloading random-images-for-face-emotion-recognition.zip to ./random-images-for-face-emotion-recognition\n"
          ]
        },
        {
          "name": "stderr",
          "output_type": "stream",
          "text": [
            "100%|██████████| 45.6M/45.6M [00:00<00:00, 143MB/s]\n"
          ]
        },
        {
          "name": "stdout",
          "output_type": "stream",
          "text": [
            "\n"
          ]
        }
      ],
      "source": [
        "import opendatasets as od\n",
        "import pandas as pd\n",
        "od.download(\"https://www.kaggle.com/datasets/sudarshanvaidya/random-images-for-face-emotion-recognition/data\")"
      ]
    },
    {
      "cell_type": "code",
      "execution_count": null,
      "metadata": {
        "colab": {
          "base_uri": "https://localhost:8080/"
        },
        "id": "VdENf3u3SNSV",
        "outputId": "bdc28b6b-4894-4403-da27-4a6e6d1c2cdb"
      },
      "outputs": [
        {
          "name": "stdout",
          "output_type": "stream",
          "text": [
            "Please provide your Kaggle credentials to download this dataset. Learn more: http://bit.ly/kaggle-creds\n",
            "Your Kaggle username: idoumouahmed\n",
            "Your Kaggle Key: ··········\n",
            "Downloading facial-expression-dataset.zip to ./facial-expression-dataset\n"
          ]
        },
        {
          "name": "stderr",
          "output_type": "stream",
          "text": [
            "100%|██████████| 60.7M/60.7M [00:00<00:00, 64.4MB/s]\n"
          ]
        },
        {
          "name": "stdout",
          "output_type": "stream",
          "text": [
            "\n"
          ]
        }
      ],
      "source": [
        "import opendatasets as od\n",
        "import pandas as pd\n",
        "od.download(\"https://www.kaggle.com/datasets/aadityasinghal/facial-expression-dataset\")"
      ]
    },
    {
      "cell_type": "markdown",
      "metadata": {
        "id": "x0CdaDz9UcOP"
      },
      "source": [
        "# **Load the Data**"
      ]
    },
    {
      "cell_type": "code",
      "execution_count": null,
      "metadata": {
        "id": "rsQJmiOpSNVC"
      },
      "outputs": [],
      "source": [
        "TRAIN_DIR = '/content/facial-expression-dataset/train/train'\n",
        "TEST_DIR = '/content/facial-expression-dataset/test/test'\n",
        "shuffled_d = '/content/random-images-for-face-emotion-recognition'"
      ]
    },
    {
      "cell_type": "code",
      "execution_count": null,
      "metadata": {
        "colab": {
          "base_uri": "https://localhost:8080/"
        },
        "id": "VQtpUwMwSNXv",
        "outputId": "598b2ab4-9a4c-47d9-9063-67a002b61339"
      },
      "outputs": [
        {
          "name": "stdout",
          "output_type": "stream",
          "text": [
            "angry  Completed\n",
            "surprise  Completed\n",
            "neutral  Completed\n",
            "sad  Completed\n",
            "disgust  Completed\n",
            "happy  Completed\n",
            "fear  Completed\n",
            "angry  Completed\n",
            "surprise  Completed\n",
            "neutral  Completed\n",
            "sad  Completed\n",
            "disgust  Completed\n",
            "happy  Completed\n",
            "fear  Completed\n",
            "happiness  Completed\n",
            "surprise  Completed\n",
            "neutrality  Completed\n",
            "anger  Completed\n",
            "sadness  Completed\n",
            "disgust  Completed\n",
            "fear  Completed\n"
          ]
        }
      ],
      "source": [
        "def load_images(dir_path):\n",
        "    labels = []\n",
        "    img_paths = []\n",
        "\n",
        "    for folder in os.listdir(dir_path):\n",
        "        folder_path = os.path.join(dir_path, folder)\n",
        "\n",
        "        # Check if it's a directory\n",
        "        if os.path.isdir(folder_path):\n",
        "            for filename in os.listdir(folder_path):\n",
        "                img_path = os.path.join(folder_path, filename)\n",
        "                img_paths.append(img_path)\n",
        "                labels.append(folder)\n",
        "            print(folder, ' Completed')\n",
        "\n",
        "    return img_paths, labels\n",
        "\n",
        "train = pd.DataFrame()\n",
        "shuffled_data = pd.DataFrame()\n",
        "# Chemin du dossier que vous souhaitez supprimer\n",
        "chemin_dossier = '/content/random-images-for-face-emotion-recognition/contempt'\n",
        "\n",
        "# Utilisez la commande !rm -r pour supprimer le dossier et tous ses contenus\n",
        "!rm -r {chemin_dossier}\n",
        "train['images'], train['labels'] = load_images(TRAIN_DIR)\n",
        "test = pd.DataFrame()\n",
        "test['images'], test['labels'] = load_images(TEST_DIR)\n",
        "shuffled_data['images'],shuffled_data['labels'] = load_images(shuffled_d)"
      ]
    },
    {
      "cell_type": "code",
      "execution_count": null,
      "metadata": {
        "id": "1t9-raqxSNaD"
      },
      "outputs": [],
      "source": [
        "correspondance_labels = {\n",
        "    \"anger\": \"angry\",\n",
        "    \"disgust\": \"disgust\",\n",
        "    \"fear\": \"fear\",\n",
        "    \"happiness\": \"happy\",\n",
        "    \"neutrality\": \"neutral\",\n",
        "    \"sadness\": \"sad\",\n",
        "    \"surprise\": \"surprise\",\n",
        "\n",
        "}"
      ]
    },
    {
      "cell_type": "code",
      "execution_count": null,
      "metadata": {
        "colab": {
          "base_uri": "https://localhost:8080/",
          "height": 35
        },
        "id": "TecaoKMNSNcu",
        "outputId": "f6484a12-f7d3-45c9-82c0-97cff7328cfa"
      },
      "outputs": [
        {
          "data": {
            "application/vnd.google.colaboratory.intrinsic+json": {
              "type": "string"
            },
            "text/plain": [
              "'happiness'"
            ]
          },
          "execution_count": 7,
          "metadata": {},
          "output_type": "execute_result"
        }
      ],
      "source": [
        "shuffled_data['labels'][0]"
      ]
    },
    {
      "cell_type": "code",
      "execution_count": null,
      "metadata": {
        "id": "S7byohtiSNfI"
      },
      "outputs": [],
      "source": [
        "for i in range(len(shuffled_data)):\n",
        "  shuffled_data['labels'][i] = correspondance_labels[shuffled_data['labels'][i]]\n"
      ]
    },
    {
      "cell_type": "code",
      "execution_count": null,
      "metadata": {
        "colab": {
          "base_uri": "https://localhost:8080/",
          "height": 206
        },
        "id": "AdQ0OYNhSNhz",
        "outputId": "16946486-2bf2-48cf-ae29-49293397f971"
      },
      "outputs": [
        {
          "data": {
            "text/html": [
              "\n",
              "  <div id=\"df-4be8d939-083c-439d-91c0-b6cb22bf52d7\" class=\"colab-df-container\">\n",
              "    <div>\n",
              "<style scoped>\n",
              "    .dataframe tbody tr th:only-of-type {\n",
              "        vertical-align: middle;\n",
              "    }\n",
              "\n",
              "    .dataframe tbody tr th {\n",
              "        vertical-align: top;\n",
              "    }\n",
              "\n",
              "    .dataframe thead th {\n",
              "        text-align: right;\n",
              "    }\n",
              "</style>\n",
              "<table border=\"1\" class=\"dataframe\">\n",
              "  <thead>\n",
              "    <tr style=\"text-align: right;\">\n",
              "      <th></th>\n",
              "      <th>images</th>\n",
              "      <th>labels</th>\n",
              "    </tr>\n",
              "  </thead>\n",
              "  <tbody>\n",
              "    <tr>\n",
              "      <th>0</th>\n",
              "      <td>/content/facial-expression-dataset/train/train...</td>\n",
              "      <td>neutral</td>\n",
              "    </tr>\n",
              "    <tr>\n",
              "      <th>1</th>\n",
              "      <td>/content/facial-expression-dataset/train/train...</td>\n",
              "      <td>surprise</td>\n",
              "    </tr>\n",
              "    <tr>\n",
              "      <th>2</th>\n",
              "      <td>/content/facial-expression-dataset/train/train...</td>\n",
              "      <td>happy</td>\n",
              "    </tr>\n",
              "    <tr>\n",
              "      <th>3</th>\n",
              "      <td>/content/facial-expression-dataset/train/train...</td>\n",
              "      <td>happy</td>\n",
              "    </tr>\n",
              "    <tr>\n",
              "      <th>4</th>\n",
              "      <td>/content/random-images-for-face-emotion-recogn...</td>\n",
              "      <td>angry</td>\n",
              "    </tr>\n",
              "  </tbody>\n",
              "</table>\n",
              "</div>\n",
              "    <div class=\"colab-df-buttons\">\n",
              "\n",
              "  <div class=\"colab-df-container\">\n",
              "    <button class=\"colab-df-convert\" onclick=\"convertToInteractive('df-4be8d939-083c-439d-91c0-b6cb22bf52d7')\"\n",
              "            title=\"Convert this dataframe to an interactive table.\"\n",
              "            style=\"display:none;\">\n",
              "\n",
              "  <svg xmlns=\"http://www.w3.org/2000/svg\" height=\"24px\" viewBox=\"0 -960 960 960\">\n",
              "    <path d=\"M120-120v-720h720v720H120Zm60-500h600v-160H180v160Zm220 220h160v-160H400v160Zm0 220h160v-160H400v160ZM180-400h160v-160H180v160Zm440 0h160v-160H620v160ZM180-180h160v-160H180v160Zm440 0h160v-160H620v160Z\"/>\n",
              "  </svg>\n",
              "    </button>\n",
              "\n",
              "  <style>\n",
              "    .colab-df-container {\n",
              "      display:flex;\n",
              "      gap: 12px;\n",
              "    }\n",
              "\n",
              "    .colab-df-convert {\n",
              "      background-color: #E8F0FE;\n",
              "      border: none;\n",
              "      border-radius: 50%;\n",
              "      cursor: pointer;\n",
              "      display: none;\n",
              "      fill: #1967D2;\n",
              "      height: 32px;\n",
              "      padding: 0 0 0 0;\n",
              "      width: 32px;\n",
              "    }\n",
              "\n",
              "    .colab-df-convert:hover {\n",
              "      background-color: #E2EBFA;\n",
              "      box-shadow: 0px 1px 2px rgba(60, 64, 67, 0.3), 0px 1px 3px 1px rgba(60, 64, 67, 0.15);\n",
              "      fill: #174EA6;\n",
              "    }\n",
              "\n",
              "    .colab-df-buttons div {\n",
              "      margin-bottom: 4px;\n",
              "    }\n",
              "\n",
              "    [theme=dark] .colab-df-convert {\n",
              "      background-color: #3B4455;\n",
              "      fill: #D2E3FC;\n",
              "    }\n",
              "\n",
              "    [theme=dark] .colab-df-convert:hover {\n",
              "      background-color: #434B5C;\n",
              "      box-shadow: 0px 1px 3px 1px rgba(0, 0, 0, 0.15);\n",
              "      filter: drop-shadow(0px 1px 2px rgba(0, 0, 0, 0.3));\n",
              "      fill: #FFFFFF;\n",
              "    }\n",
              "  </style>\n",
              "\n",
              "    <script>\n",
              "      const buttonEl =\n",
              "        document.querySelector('#df-4be8d939-083c-439d-91c0-b6cb22bf52d7 button.colab-df-convert');\n",
              "      buttonEl.style.display =\n",
              "        google.colab.kernel.accessAllowed ? 'block' : 'none';\n",
              "\n",
              "      async function convertToInteractive(key) {\n",
              "        const element = document.querySelector('#df-4be8d939-083c-439d-91c0-b6cb22bf52d7');\n",
              "        const dataTable =\n",
              "          await google.colab.kernel.invokeFunction('convertToInteractive',\n",
              "                                                    [key], {});\n",
              "        if (!dataTable) return;\n",
              "\n",
              "        const docLinkHtml = 'Like what you see? Visit the ' +\n",
              "          '<a target=\"_blank\" href=https://colab.research.google.com/notebooks/data_table.ipynb>data table notebook</a>'\n",
              "          + ' to learn more about interactive tables.';\n",
              "        element.innerHTML = '';\n",
              "        dataTable['output_type'] = 'display_data';\n",
              "        await google.colab.output.renderOutput(dataTable, element);\n",
              "        const docLink = document.createElement('div');\n",
              "        docLink.innerHTML = docLinkHtml;\n",
              "        element.appendChild(docLink);\n",
              "      }\n",
              "    </script>\n",
              "  </div>\n",
              "\n",
              "\n",
              "<div id=\"df-a461408c-2c28-4d6d-81a3-e2df570a42b4\">\n",
              "  <button class=\"colab-df-quickchart\" onclick=\"quickchart('df-a461408c-2c28-4d6d-81a3-e2df570a42b4')\"\n",
              "            title=\"Suggest charts.\"\n",
              "            style=\"display:none;\">\n",
              "\n",
              "<svg xmlns=\"http://www.w3.org/2000/svg\" height=\"24px\"viewBox=\"0 0 24 24\"\n",
              "     width=\"24px\">\n",
              "    <g>\n",
              "        <path d=\"M19 3H5c-1.1 0-2 .9-2 2v14c0 1.1.9 2 2 2h14c1.1 0 2-.9 2-2V5c0-1.1-.9-2-2-2zM9 17H7v-7h2v7zm4 0h-2V7h2v10zm4 0h-2v-4h2v4z\"/>\n",
              "    </g>\n",
              "</svg>\n",
              "  </button>\n",
              "\n",
              "<style>\n",
              "  .colab-df-quickchart {\n",
              "      --bg-color: #E8F0FE;\n",
              "      --fill-color: #1967D2;\n",
              "      --hover-bg-color: #E2EBFA;\n",
              "      --hover-fill-color: #174EA6;\n",
              "      --disabled-fill-color: #AAA;\n",
              "      --disabled-bg-color: #DDD;\n",
              "  }\n",
              "\n",
              "  [theme=dark] .colab-df-quickchart {\n",
              "      --bg-color: #3B4455;\n",
              "      --fill-color: #D2E3FC;\n",
              "      --hover-bg-color: #434B5C;\n",
              "      --hover-fill-color: #FFFFFF;\n",
              "      --disabled-bg-color: #3B4455;\n",
              "      --disabled-fill-color: #666;\n",
              "  }\n",
              "\n",
              "  .colab-df-quickchart {\n",
              "    background-color: var(--bg-color);\n",
              "    border: none;\n",
              "    border-radius: 50%;\n",
              "    cursor: pointer;\n",
              "    display: none;\n",
              "    fill: var(--fill-color);\n",
              "    height: 32px;\n",
              "    padding: 0;\n",
              "    width: 32px;\n",
              "  }\n",
              "\n",
              "  .colab-df-quickchart:hover {\n",
              "    background-color: var(--hover-bg-color);\n",
              "    box-shadow: 0 1px 2px rgba(60, 64, 67, 0.3), 0 1px 3px 1px rgba(60, 64, 67, 0.15);\n",
              "    fill: var(--button-hover-fill-color);\n",
              "  }\n",
              "\n",
              "  .colab-df-quickchart-complete:disabled,\n",
              "  .colab-df-quickchart-complete:disabled:hover {\n",
              "    background-color: var(--disabled-bg-color);\n",
              "    fill: var(--disabled-fill-color);\n",
              "    box-shadow: none;\n",
              "  }\n",
              "\n",
              "  .colab-df-spinner {\n",
              "    border: 2px solid var(--fill-color);\n",
              "    border-color: transparent;\n",
              "    border-bottom-color: var(--fill-color);\n",
              "    animation:\n",
              "      spin 1s steps(1) infinite;\n",
              "  }\n",
              "\n",
              "  @keyframes spin {\n",
              "    0% {\n",
              "      border-color: transparent;\n",
              "      border-bottom-color: var(--fill-color);\n",
              "      border-left-color: var(--fill-color);\n",
              "    }\n",
              "    20% {\n",
              "      border-color: transparent;\n",
              "      border-left-color: var(--fill-color);\n",
              "      border-top-color: var(--fill-color);\n",
              "    }\n",
              "    30% {\n",
              "      border-color: transparent;\n",
              "      border-left-color: var(--fill-color);\n",
              "      border-top-color: var(--fill-color);\n",
              "      border-right-color: var(--fill-color);\n",
              "    }\n",
              "    40% {\n",
              "      border-color: transparent;\n",
              "      border-right-color: var(--fill-color);\n",
              "      border-top-color: var(--fill-color);\n",
              "    }\n",
              "    60% {\n",
              "      border-color: transparent;\n",
              "      border-right-color: var(--fill-color);\n",
              "    }\n",
              "    80% {\n",
              "      border-color: transparent;\n",
              "      border-right-color: var(--fill-color);\n",
              "      border-bottom-color: var(--fill-color);\n",
              "    }\n",
              "    90% {\n",
              "      border-color: transparent;\n",
              "      border-bottom-color: var(--fill-color);\n",
              "    }\n",
              "  }\n",
              "</style>\n",
              "\n",
              "  <script>\n",
              "    async function quickchart(key) {\n",
              "      const quickchartButtonEl =\n",
              "        document.querySelector('#' + key + ' button');\n",
              "      quickchartButtonEl.disabled = true;  // To prevent multiple clicks.\n",
              "      quickchartButtonEl.classList.add('colab-df-spinner');\n",
              "      try {\n",
              "        const charts = await google.colab.kernel.invokeFunction(\n",
              "            'suggestCharts', [key], {});\n",
              "      } catch (error) {\n",
              "        console.error('Error during call to suggestCharts:', error);\n",
              "      }\n",
              "      quickchartButtonEl.classList.remove('colab-df-spinner');\n",
              "      quickchartButtonEl.classList.add('colab-df-quickchart-complete');\n",
              "    }\n",
              "    (() => {\n",
              "      let quickchartButtonEl =\n",
              "        document.querySelector('#df-a461408c-2c28-4d6d-81a3-e2df570a42b4 button');\n",
              "      quickchartButtonEl.style.display =\n",
              "        google.colab.kernel.accessAllowed ? 'block' : 'none';\n",
              "    })();\n",
              "  </script>\n",
              "</div>\n",
              "    </div>\n",
              "  </div>\n"
            ],
            "text/plain": [
              "                                              images    labels\n",
              "0  /content/facial-expression-dataset/train/train...   neutral\n",
              "1  /content/facial-expression-dataset/train/train...  surprise\n",
              "2  /content/facial-expression-dataset/train/train...     happy\n",
              "3  /content/facial-expression-dataset/train/train...     happy\n",
              "4  /content/random-images-for-face-emotion-recogn...     angry"
            ]
          },
          "execution_count": 9,
          "metadata": {},
          "output_type": "execute_result"
        }
      ],
      "source": [
        "import pandas as pd\n",
        "\n",
        "# Concaténation horizontale\n",
        "DATA = pd.concat([train, test, shuffled_data], axis=0)\n",
        "# shuffle the dataset\n",
        "DATA = DATA.sample(frac = 1).reset_index(drop=True)\n",
        "DATA.head()\n"
      ]
    },
    {
      "cell_type": "code",
      "execution_count": null,
      "metadata": {
        "colab": {
          "base_uri": "https://localhost:8080/"
        },
        "id": "r0p_ycLhSNkf",
        "outputId": "d1263bff-4b0e-4ff9-87fc-e95f34064f0d"
      },
      "outputs": [
        {
          "data": {
            "text/plain": [
              "happy       1406\n",
              "angry        890\n",
              "surprise     775\n",
              "sad          746\n",
              "fear         570\n",
              "neutral      524\n",
              "disgust      439\n",
              "Name: labels, dtype: int64"
            ]
          },
          "execution_count": 10,
          "metadata": {},
          "output_type": "execute_result"
        }
      ],
      "source": [
        "shuffled_data['labels'].value_counts()"
      ]
    },
    {
      "cell_type": "code",
      "execution_count": null,
      "metadata": {
        "id": "lCg8zteMSNnI"
      },
      "outputs": [],
      "source": [
        "from sklearn.model_selection import train_test_split\n",
        "X = DATA['images']\n",
        "y= DATA['labels']\n",
        "X_train, X_test, y_train, y_test = train_test_split(X, y, test_size=0.2, random_state=42)"
      ]
    },
    {
      "cell_type": "code",
      "execution_count": null,
      "metadata": {
        "colab": {
          "base_uri": "https://localhost:8080/"
        },
        "id": "yoB6Wn0SSNp-",
        "outputId": "14e46d1d-2986-4603-b5b7-1bd3add405ea"
      },
      "outputs": [
        {
          "data": {
            "text/plain": [
              "((32989,), (8248,), (32989,), (8248,))"
            ]
          },
          "execution_count": 12,
          "metadata": {},
          "output_type": "execute_result"
        }
      ],
      "source": [
        "X_train.shape, X_test.shape, y_train.shape, y_test.shape"
      ]
    },
    {
      "cell_type": "markdown",
      "metadata": {
        "id": "Gp_9QfzoUmqn"
      },
      "source": [
        "# **Exploratory Data Analysis**"
      ]
    },
    {
      "cell_type": "code",
      "execution_count": null,
      "metadata": {
        "colab": {
          "base_uri": "https://localhost:8080/",
          "height": 466
        },
        "id": "Ccmxm9kfSNsV",
        "outputId": "8cc9c921-81ea-42a5-e9c7-ffa27887698c"
      },
      "outputs": [
        {
          "data": {
            "text/plain": [
              "<Axes: xlabel='labels', ylabel='count'>"
            ]
          },
          "execution_count": 13,
          "metadata": {},
          "output_type": "execute_result"
        },
        {
          "data": {
            "image/png": "[encoded data removed]",
            "text/plain": [
              "<Figure size 640x480 with 1 Axes>"
            ]
          },
          "metadata": {},
          "output_type": "display_data"
        }
      ],
      "source": [
        "sns.countplot(data=DATA, x='labels')"
      ]
    },
    {
      "cell_type": "code",
      "execution_count": null,
      "metadata": {
        "colab": {
          "base_uri": "https://localhost:8080/",
          "height": 628
        },
        "id": "1CjcmqROSNu6",
        "outputId": "a5f8a216-d792-4fc6-a823-cedd281ccbe2"
      },
      "outputs": [
        {
          "data": {
            "image/png": "[encoded data removed]",
            "text/plain": [
              "<Figure size 1000x1000 with 10 Axes>"
            ]
          },
          "metadata": {},
          "output_type": "display_data"
        }
      ],
      "source": [
        "from PIL import Image\n",
        "import matplotlib.pyplot as plt\n",
        "# display grid of images\n",
        "plt.figure(figsize=(10,10))\n",
        "file = DATA.iloc[0:10]\n",
        "images= file['images']\n",
        "target = file['labels']\n",
        "train = train.sample(frac = 1).reset_index(drop=True)\n",
        "for idx in range(len(images)) :\n",
        "  plt.subplot(4,4,idx+1)\n",
        "  imgs = Image.open(images[idx])\n",
        "  plt.imshow(imgs , cmap='gray')\n",
        "  plt.axis('off')\n",
        "  plt.title(target[idx])"
      ]
    },
    {
      "cell_type": "code",
      "execution_count": null,
      "metadata": {
        "colab": {
          "base_uri": "https://localhost:8080/"
        },
        "id": "nsRGokfgSNxd",
        "outputId": "12c812f5-9ff3-4f1a-b4b4-3dde2b3dff7a"
      },
      "outputs": [
        {
          "name": "stderr",
          "output_type": "stream",
          "text": [
            "100%|██████████| 32989/32989 [00:34<00:00, 963.46it/s] \n",
            "100%|██████████| 8248/8248 [00:05<00:00, 1535.73it/s]\n"
          ]
        }
      ],
      "source": [
        "from tqdm import tqdm\n",
        "import torch\n",
        "import torchvision.transforms as transforms\n",
        "from torchvision import datasets\n",
        "\n",
        "# transform path to image\n",
        "def read_images(images):\n",
        "    features = []\n",
        "    transform = transforms.Compose([transforms.Grayscale(num_output_channels=1),\n",
        "                                    transforms.Resize(size=(64, 64)),\n",
        "                                    transforms.ToTensor()\n",
        " ])\n",
        "\n",
        "    for img_path in tqdm(images):\n",
        "      img = datasets.folder.default_loader(img_path)\n",
        "      img = transform(img)\n",
        "      features.append(img)\n",
        "\n",
        "    features = torch.stack(features)\n",
        "    return features\n",
        "\n",
        "train_features= read_images(X_train)\n",
        "test_features = read_images(X_test)\n",
        "\n",
        "X_train = train_features/255.0\n",
        "X_test = test_features/255.0"
      ]
    },
    {
      "cell_type": "code",
      "execution_count": null,
      "metadata": {
        "colab": {
          "base_uri": "https://localhost:8080/"
        },
        "id": "X-GRg3IrSNz7",
        "outputId": "97be270b-1d00-44ca-e934-b2b7cc53f7f1"
      },
      "outputs": [
        {
          "data": {
            "text/plain": [
              "(torch.Size([32989, 1, 64, 64]), torch.Size([8248, 1, 64, 64]))"
            ]
          },
          "execution_count": 16,
          "metadata": {},
          "output_type": "execute_result"
        }
      ],
      "source": [
        "X_train.shape,X_test.shape"
      ]
    },
    {
      "cell_type": "code",
      "execution_count": null,
      "metadata": {
        "id": "IgU6NGnVSN2b"
      },
      "outputs": [],
      "source": [
        "from sklearn.preprocessing import LabelEncoder\n",
        "label_encoder = LabelEncoder()\n",
        "y_train = label_encoder.fit_transform(y_train)\n",
        "y_test = label_encoder.fit_transform(y_test)"
      ]
    },
    {
      "cell_type": "code",
      "execution_count": null,
      "metadata": {
        "id": "5jVZLCjRYPfQ"
      },
      "outputs": [],
      "source": [
        "from torch.utils.data import DataLoader,TensorDataset\n",
        "# Setup  the batch size hyperparametre\n",
        "BATCH_SIZE = 32\n",
        "\n",
        "\n",
        "# Make sure the data is PyTorch tensors\n",
        "X_train = torch.Tensor(X_train)\n",
        "y_train = torch.Tensor(y_train)\n",
        "X_test = torch.Tensor(X_test)\n",
        "y_test = torch.Tensor(y_test)\n",
        "X_train.shape\n",
        "# Create a dataset for training and testing data\n",
        "train_dataset = TensorDataset(X_train, y_train)\n",
        "test_dataset = TensorDataset(X_test, y_test)"
      ]
    },
    {
      "cell_type": "code",
      "execution_count": null,
      "metadata": {
        "colab": {
          "base_uri": "https://localhost:8080/"
        },
        "id": "b48GJJb7S-dJ",
        "outputId": "38a20d06-fc65-4f56-9a81-b75ed8085ab6"
      },
      "outputs": [
        {
          "name": "stderr",
          "output_type": "stream",
          "text": [
            "100%|██████████| 32989/32989 [00:19<00:00, 1724.71it/s]\n"
          ]
        }
      ],
      "source": [
        "import torchvision.transforms as T  # Remplacez par la classe de votre ensemble de données\n",
        "from torch.utils.data import DataLoader, TensorDataset\n",
        "from torch.utils.data import ConcatDataset\n",
        "\n",
        "# Définissez votre fonction image_transformations\n",
        "def image_transformations():\n",
        "    train_trans = [\n",
        "        T.RandomRotation(15),\n",
        "        T.RandomAffine(\n",
        "            degrees=0,\n",
        "            translate=(0.01, 0.12),\n",
        "            scale=(0.8, 1.2),\n",
        "            shear=(0.01, 0.03)\n",
        "        ),\n",
        "        T.RandomHorizontalFlip(),\n",
        "        T.ToTensor(),\n",
        "    ]\n",
        "\n",
        "    test_trans = [\n",
        "        T.ToTensor(),\n",
        "    ]\n",
        "\n",
        "    train_transformations = T.Compose(train_trans)\n",
        "    test_transformations = T.Compose(test_trans)\n",
        "\n",
        "    return train_transformations, test_transformations\n",
        "\n",
        "# Utilisez la fonction image_transformations pour obtenir les transformations\n",
        "train_transformations, test_transformations = image_transformations()\n",
        "\n",
        "# Chargez votre jeu de données d'entraînement, par exemple, en utilisant votre propre classe de dataset\n",
        "\n",
        "\n",
        "# Appliquez les transformations aux données d'entraînement pour obtenir des tensors d'images\n",
        "transformed_data = []\n",
        "for image, label in tqdm(train_dataset):\n",
        "   # Convertissez le tensor en une image au format PIL\n",
        "   image_pil = T.ToPILImage()(image)\n",
        "   # Appliquez les transformations sur l'image PIL\n",
        "   transformed_image_pil = train_transformations(image_pil)\n",
        "\n",
        "   transformed_data.append((transformed_image_pil, label))\n",
        "\n",
        "# Séparez les images et les labels\n",
        "images, labels = zip(*transformed_data)\n",
        "\n",
        "# Convertissez les listes d'images et de labels en tensors PyTorch\n",
        "images = torch.stack(images)\n",
        "labels = torch.tensor(labels)\n",
        "\n",
        "# Créez un TensorDataset à partir des tensors d'images et de labels\n",
        "transformed_dataset = TensorDataset(images, labels)\n",
        "concatenated_dataset = ConcatDataset([train_dataset, transformed_dataset])\n",
        "\n",
        "train_loader1 = DataLoader(concatenated_dataset, batch_size=7, shuffle=True, num_workers=4)\n",
        "\n",
        "# Maintenant, train_loader1 contient des tensors d'images résultant de l'application des transformations à votre jeu de données d'entraînement.\n"
      ]
    },
    {
      "cell_type": "code",
      "execution_count": null,
      "metadata": {
        "colab": {
          "base_uri": "https://localhost:8080/"
        },
        "id": "pBmy7iEmpuxf",
        "outputId": "15fd7e5c-3ca1-4774-fecd-142a1d89a4e0"
      },
      "outputs": [
        {
          "name": "stderr",
          "output_type": "stream",
          "text": [
            "100%|██████████| 8248/8248 [00:02<00:00, 2992.62it/s]\n"
          ]
        }
      ],
      "source": [
        "import torchvision.transforms as T  # Remplacez par la classe de votre ensemble de données\n",
        "from torch.utils.data import DataLoader, TensorDataset\n",
        "from torch.utils.data import ConcatDataset\n",
        "\n",
        "# Définissez votre fonction image_transformations\n",
        "def image_transformations():\n",
        "    train_trans = [\n",
        "        T.RandomRotation(15),\n",
        "        T.RandomAffine(\n",
        "            degrees=0,\n",
        "            translate=(0.01, 0.12),\n",
        "            scale=(0.8, 1.2),\n",
        "            shear=(0.01, 0.03)\n",
        "        ),\n",
        "        T.RandomHorizontalFlip(),\n",
        "        T.ToTensor(),\n",
        "    ]\n",
        "\n",
        "    test_trans = [\n",
        "        T.ToTensor(),\n",
        "    ]\n",
        "\n",
        "    train_transformations = T.Compose(train_trans)\n",
        "    test_transformations = T.Compose(test_trans)\n",
        "\n",
        "    return train_transformations, test_transformations\n",
        "\n",
        "# Utilisez la fonction image_transformations pour obtenir les transformations\n",
        "train_transformations, test_transformations = image_transformations()\n",
        "\n",
        "# Chargez votre jeu de données d'entraînement, par exemple, en utilisant votre propre classe de dataset\n",
        "\n",
        "\n",
        "# Appliquez les transformations aux données d'entraînement pour obtenir des tensors d'images\n",
        "transformed_data = []\n",
        "for image, label in tqdm(test_dataset):\n",
        "   # Convertissez le tensor en une image au format PIL\n",
        "   image_pil = T.ToPILImage()(image)\n",
        "   # Appliquez les transformations sur l'image PIL\n",
        "   transformed_image_pil = test_transformations(image_pil)\n",
        "\n",
        "   transformed_data.append((transformed_image_pil, label))\n",
        "\n",
        "# Séparez les images et les labels\n",
        "images, labels = zip(*transformed_data)\n",
        "\n",
        "# Convertissez les listes d'images et de labels en tensors PyTorch\n",
        "images = torch.stack(images)\n",
        "labels = torch.tensor(labels)\n",
        "\n",
        "# Créez un TensorDataset à partir des tensors d'images et de labels\n",
        "transformed_dataset = TensorDataset(images, labels)\n",
        "concatenated_dataset = ConcatDataset([test_dataset, transformed_dataset])\n",
        "test_loader1 = DataLoader(concatenated_dataset, batch_size=7, shuffle=True, num_workers=4)\n",
        "\n",
        "# Maintenant, train_loader1 contient des tensors d'images résultant de l'application des transformations à votre jeu de données d'entraînement.\n"
      ]
    },
    {
      "cell_type": "code",
      "execution_count": null,
      "metadata": {
        "colab": {
          "base_uri": "https://localhost:8080/"
        },
        "id": "vG92Gy-iSN5D",
        "outputId": "c8d29e3e-daa6-4b8c-fba9-eef1e8d9e68f"
      },
      "outputs": [
        {
          "name": "stdout",
          "output_type": "stream",
          "text": [
            "dataloader : (<torch.utils.data.dataloader.DataLoader object at 0x7bcb7c67c280>, <torch.utils.data.dataloader.DataLoader object at 0x7bcb7c67f160>)\n",
            "Length of train_dataloader : 9426 batches of 7\n",
            "Length of test_dataloader : 2357 batches of 7\n"
          ]
        }
      ],
      "source": [
        "print(f\"dataloader : {train_loader1 , test_loader1}\")\n",
        "print(f\"Length of train_dataloader : {len(train_loader1)} batches of {7}\")\n",
        "print(f\"Length of test_dataloader : {len(test_loader1)} batches of {7}\")"
      ]
    },
    {
      "cell_type": "code",
      "execution_count": null,
      "metadata": {
        "colab": {
          "base_uri": "https://localhost:8080/"
        },
        "id": "djjhZAzuSN7X",
        "outputId": "584a7944-e04e-43d2-aa42-76b2f14d1193"
      },
      "outputs": [
        {
          "data": {
            "text/plain": [
              "(torch.Size([7, 1, 64, 64]), torch.Size([7]))"
            ]
          },
          "execution_count": 22,
          "metadata": {},
          "output_type": "execute_result"
        }
      ],
      "source": [
        "# Check out what's inside the training dataloader\n",
        "train_features_batch, train_labels_batch = next(iter(train_loader1))\n",
        "train_features_batch.shape, train_labels_batch.shape"
      ]
    },
    {
      "cell_type": "code",
      "execution_count": null,
      "metadata": {
        "colab": {
          "base_uri": "https://localhost:8080/"
        },
        "id": "fIQMhUC6SN93",
        "outputId": "bb798d5d-9d79-4537-d2f9-3040332dc4b3"
      },
      "outputs": [
        {
          "data": {
            "text/plain": [
              "(torch.Size([7, 1, 64, 64]), torch.Size([7]))"
            ]
          },
          "execution_count": 23,
          "metadata": {},
          "output_type": "execute_result"
        }
      ],
      "source": [
        "# Check out what's inside the testing dataloader\n",
        "test_features_batch, test_labels_batch = next(iter(test_loader1))\n",
        "test_features_batch.shape, test_labels_batch.shape"
      ]
    },
    {
      "cell_type": "markdown",
      "metadata": {
        "id": "jRhXXVzJThRG"
      },
      "source": [
        "# **1. Build the Models**"
      ]
    },
    {
      "cell_type": "code",
      "execution_count": null,
      "metadata": {
        "colab": {
          "base_uri": "https://localhost:8080/",
          "height": 35
        },
        "id": "5RMjKR5QSOAD",
        "outputId": "41c46ad2-4a7d-4c37-ee40-69d5109f2a95"
      },
      "outputs": [
        {
          "data": {
            "application/vnd.google.colaboratory.intrinsic+json": {
              "type": "string"
            },
            "text/plain": [
              "'cpu'"
            ]
          },
          "execution_count": 24,
          "metadata": {},
          "output_type": "execute_result"
        }
      ],
      "source": [
        "# Setup device agnostic code\n",
        "device = \"cuda\" if torch.cuda.is_available() else \"cpu\"\n",
        "device"
      ]
    },
    {
      "cell_type": "code",
      "execution_count": null,
      "metadata": {
        "id": "awUrCFKQSOCw"
      },
      "outputs": [],
      "source": [
        "from sklearn.metrics import f1_score\n",
        "\n",
        "def f1_score_fn(y_true, y_pred):\n",
        "    y_true = y_true.cpu().numpy()  # Convertir les tenseurs PyTorch en tableaux NumPy\n",
        "    y_pred = y_pred.cpu().numpy()\n",
        "    f1 = f1_score(y_true, y_pred, average='weighted')  # Vous pouvez spécifier 'micro', 'macro', 'weighted', etc., selon votre besoin\n",
        "    return f1"
      ]
    },
    {
      "cell_type": "code",
      "execution_count": null,
      "metadata": {
        "id": "QsugShHXSOFE"
      },
      "outputs": [],
      "source": [
        "import torch\n",
        "from torch.utils.data import DataLoader, Subset\n",
        "from sklearn.model_selection import KFold\n",
        "import statistics\n",
        "\n",
        "def train_step_with_cv(model, data_loader, loss_fn, optimizer, accuracy_fn, device, n_splits=5, num_epochs=10):\n",
        "    model.to(device)\n",
        "\n",
        "    # Create a KFold cross-validator\n",
        "    kf = KFold(n_splits=n_splits, shuffle=True, random_state=42)\n",
        "\n",
        "    train_acc_list = []\n",
        "    dev_acc_list = []\n",
        "    train_loss_list = []\n",
        "    dev_loss_list = []\n",
        "\n",
        "    for train_indices, val_indices in tqdm(kf.split(data_loader.dataset)):\n",
        "        # Create data loaders for training and validation folds\n",
        "        train_subset = Subset(data_loader.dataset, train_indices)\n",
        "        val_subset = Subset(data_loader.dataset, val_indices)\n",
        "        train_loader = DataLoader(train_subset, batch_size=data_loader.batch_size, shuffle=True)\n",
        "        val_loader = DataLoader(val_subset, batch_size=data_loader.batch_size)\n",
        "\n",
        "        model.train()\n",
        "\n",
        "        train_loss = 0\n",
        "        train_acc = 0\n",
        "\n",
        "        for epoch in range(num_epochs):\n",
        "            # Training loop\n",
        "            for batch, (X, y) in enumerate(train_loader):\n",
        "                # Send data to GPU\n",
        "                X, y = X.float().to(device), y.long().to(device)\n",
        "\n",
        "                # 1. Forward pass\n",
        "                y_pred = model(X)\n",
        "\n",
        "                # 2. Calculate loss\n",
        "                loss = loss_fn(y_pred, y)\n",
        "                train_loss += loss.item()\n",
        "                train_acc += accuracy_fn(y_true=y, y_pred=y_pred.argmax(dim=1))\n",
        "\n",
        "                # 3. Optimizer zero grad\n",
        "                optimizer.zero_grad()\n",
        "\n",
        "                # 4. Loss backward\n",
        "                loss.backward()\n",
        "\n",
        "                # 5. Optimizer step\n",
        "                optimizer.step()\n",
        "\n",
        "            train_loss /= len(train_loader)\n",
        "            train_acc /= len(train_loader)\n",
        "\n",
        "        train_loss_list.append(train_loss)\n",
        "        train_acc_list.append(train_acc)\n",
        "\n",
        "        # Validation loop\n",
        "        val_loss, val_acc = eval_model(model, val_loader, loss_fn, accuracy_fn)\n",
        "        dev_loss_list.append(val_loss)\n",
        "        dev_acc_list.append(val_acc)\n",
        "\n",
        "    print(f\"Train Loss: {statistics.mean(train_loss_list):.5f} | Train Accuracy: {statistics.mean(train_acc_list):.2f}\")\n",
        "    print(f\"Validation Loss: {statistics.mean(dev_loss_list):.5f} | Validation Accuracy: {statistics.mean(dev_acc_list):.2f}\")"
      ]
    },
    {
      "cell_type": "code",
      "execution_count": null,
      "metadata": {
        "id": "qR471FDlSOHt"
      },
      "outputs": [],
      "source": [
        "def test_step(data_loader: torch.utils.data.DataLoader,\n",
        "              model: torch.nn.Module,\n",
        "              loss_fn: torch.nn.Module,\n",
        "              accuracy_fn,\n",
        "              device: torch.device ):\n",
        "  test_loss, test_acc = 0, 0\n",
        "  model.to(device)\n",
        "  model.eval() # put model in eval mode\n",
        "  # Turn on inference context manager\n",
        "  with torch.inference_mode():\n",
        "    for X, y in data_loader:\n",
        "      # Send data to GPU\n",
        "      X, y = X.float().to(device), y.long().to(device)\n",
        "\n",
        "      # 1. Forward pass\n",
        "      test_pred = model(X)\n",
        "\n",
        "      # 2. Calculate loss and accuracy\n",
        "      test_loss += loss_fn(test_pred, y)\n",
        "      test_acc += accuracy_fn(y_true=y,\n",
        "                y_pred=test_pred.argmax(dim=1) # Go from logits -> pred labels\n",
        "            )\n",
        "\n",
        "    # Adjust metrics and print out\n",
        "    test_loss /= len(data_loader)\n",
        "    test_acc /= len(data_loader)\n",
        "    print(f\"Test loss: {test_loss:.5f} | Test accuracy: {test_acc:.2f}\\n\")"
      ]
    },
    {
      "cell_type": "code",
      "execution_count": null,
      "metadata": {
        "id": "khtTrGUPSOM0"
      },
      "outputs": [],
      "source": [
        "from timeit import default_timer as timer\n",
        "def print_train_time(start:float,\n",
        "                        end:float,\n",
        "                        device:torch.device=None):\n",
        "  total_time = end - start\n",
        "  print(f\"Train time on {device}: {total_time:.3f} seconds\")\n",
        "  return total_time"
      ]
    },
    {
      "cell_type": "code",
      "execution_count": null,
      "metadata": {
        "colab": {
          "base_uri": "https://localhost:8080/"
        },
        "id": "Lj96dmyOSOPd",
        "outputId": "b834ba7b-9a71-445c-e2a5-9fd1eb6a56d8"
      },
      "outputs": [
        {
          "name": "stdout",
          "output_type": "stream",
          "text": [
            "Train time on cpu: 0.000 seconds\n"
          ]
        },
        {
          "data": {
            "text/plain": [
              "4.940299999134368e-05"
            ]
          },
          "execution_count": 29,
          "metadata": {},
          "output_type": "execute_result"
        }
      ],
      "source": [
        "start_time= timer()\n",
        "end_time=timer()\n",
        "print_train_time(start=start_time,end=end_time,device='cpu')"
      ]
    },
    {
      "cell_type": "code",
      "execution_count": null,
      "metadata": {
        "id": "jN9Y24rbT_z1"
      },
      "outputs": [],
      "source": [
        "def eval_model(model, data_loader, loss_fn, accuracy_fn):\n",
        "    model.eval()\n",
        "    total_loss = 0.0\n",
        "    total_acc = 0.0\n",
        "\n",
        "    with torch.no_grad():\n",
        "        for batch in data_loader:\n",
        "            inputs, labels = batch\n",
        "            inputs = inputs.float().to(device)\n",
        "            labels = labels.long().to(device)\n",
        "\n",
        "            outputs = model(inputs)\n",
        "            loss = loss_fn(outputs, labels)\n",
        "            total_loss += loss.item()\n",
        "\n",
        "            predictions = outputs.argmax(dim=1)\n",
        "            acc = f1_score_fn(labels, predictions)\n",
        "            total_acc += acc\n",
        "\n",
        "    # Calculez la somme totale de la perte et de l'accuracy, puis divisez par le nombre de lots\n",
        "    avg_loss = total_loss / len(data_loader)\n",
        "    avg_acc = total_acc / len(data_loader)\n",
        "\n",
        "    return avg_loss, avg_acc"
      ]
    },
    {
      "cell_type": "code",
      "execution_count": null,
      "metadata": {
        "id": "7epF1kaIUGUo"
      },
      "outputs": [],
      "source": [
        "import torch\n",
        "import torch.nn as nn\n",
        "\n",
        "import torch.nn as nn\n",
        "\n",
        "\n",
        "\n",
        "class LinearWithRegularization(nn.Module):\n",
        "    def __init__(self, in_features, out_features, l1_reg=0.01, l2_reg=0.01):\n",
        "        super().__init__()\n",
        "        self.linear = nn.Linear(in_features, out_features)\n",
        "        self.l1_reg = l1_reg\n",
        "        self.l2_reg = l2_reg\n",
        "\n",
        "    def forward(self, x):\n",
        "        # Calcul de la sortie de la couche linéaire\n",
        "        out = self.linear(x)\n",
        "\n",
        "        # Ajout de la régularisation L1 et L2 aux poids\n",
        "        l1_loss = self.l1_reg * torch.sum(torch.abs(self.linear.weight))\n",
        "        l2_loss = self.l2_reg * torch.sum(self.linear.weight**2)\n",
        "\n",
        "        # Ajout de la régularisation aux pertes totales\n",
        "        loss = out + l1_loss + l2_loss\n",
        "\n",
        "        return loss\n",
        "\n",
        "class Face_im_rec_model_1(nn.Module):\n",
        "  def __init__(self, input_shape:int, hidden_units:int,output_shape:int):\n",
        "    super().__init__()\n",
        "    self.bloc1 = nn.Sequential(\n",
        "            nn.Conv2d(in_channels=input_shape,\n",
        "                  out_channels=hidden_units,\n",
        "                  kernel_size=3 ,\n",
        "                  stride=1 ,\n",
        "                  padding=1),\n",
        "            nn.BatchNorm2d(hidden_units) ,\n",
        "            nn.MaxPool2d(2, 1),\n",
        "            nn.ReLU())\n",
        "    self.batchnorm1 = nn.BatchNorm2d(input_shape)\n",
        "\n",
        "    self.bloc2 = nn.Sequential(\n",
        "            nn.Conv2d(in_channels=hidden_units,\n",
        "                  out_channels=hidden_units,\n",
        "                  kernel_size=3 ,\n",
        "                  stride=1 ,\n",
        "                  padding=1),\n",
        "            nn.BatchNorm2d(hidden_units) ,\n",
        "            nn.MaxPool2d(2, 1),\n",
        "            nn.ReLU())\n",
        "\n",
        "\n",
        "\n",
        "    self.bloc3 = nn.Sequential(\n",
        "            nn.Conv2d(in_channels=hidden_units,\n",
        "                  out_channels=hidden_units,\n",
        "                  kernel_size=3 ,\n",
        "                  stride=1 ,\n",
        "                  padding=1),\n",
        "            nn.BatchNorm2d(hidden_units) ,\n",
        "            nn.MaxPool2d(2, 2),\n",
        "            nn.ReLU())\n",
        "    self.bloc4 = nn.Sequential(\n",
        "            nn.Conv2d(in_channels=hidden_units,\n",
        "                  out_channels=hidden_units,\n",
        "                  kernel_size=3 ,\n",
        "                  stride=1 ,\n",
        "                  padding=1),\n",
        "            nn.BatchNorm2d(hidden_units) ,\n",
        "            nn.MaxPool2d(2, 2),\n",
        "            nn.ReLU())\n",
        "\n",
        "    self.bloc5 = nn.Sequential(\n",
        "            nn.Conv2d(in_channels=hidden_units,\n",
        "                  out_channels=hidden_units,\n",
        "                  kernel_size=3 ,\n",
        "                  stride=1 ,\n",
        "                  padding=1),\n",
        "            nn.BatchNorm2d(hidden_units) ,\n",
        "            nn.MaxPool2d(2, 1),\n",
        "            nn.ReLU())\n",
        "    self.bloc6 = nn.Sequential(\n",
        "            nn.Conv2d(in_channels=hidden_units,\n",
        "                  out_channels=hidden_units,\n",
        "                  kernel_size=3 ,\n",
        "                  stride=1 ,\n",
        "                  padding=1),\n",
        "            nn.BatchNorm2d(hidden_units) ,\n",
        "            nn.MaxPool2d(2, 1),\n",
        "            nn.ReLU())\n",
        "    self.bloc7 = nn.Sequential(\n",
        "            nn.Conv2d(in_channels=hidden_units,\n",
        "                  out_channels=hidden_units,\n",
        "                  kernel_size=3 ,\n",
        "                  stride=1 ,\n",
        "                  padding=1),\n",
        "            nn.BatchNorm2d(hidden_units) ,\n",
        "            nn.MaxPool2d(2, 2),\n",
        "            nn.ReLU())\n",
        "\n",
        "    self.bloc8= nn.Sequential(\n",
        "            nn.Flatten(),\n",
        "            nn.Linear(hidden_units*6*6,hidden_units*6*6),\n",
        "            nn.ReLU(),\n",
        "            nn.Dropout(0.3))\n",
        "\n",
        "    self.bloc9 = nn.Sequential(\n",
        "            nn.Linear(hidden_units*6*6,hidden_units*6*6),\n",
        "            nn.ReLU(),\n",
        "            nn.Dropout(0.5))\n",
        "    self.bloc10 = nn.Sequential(\n",
        "            nn.Linear(hidden_units*6*6,hidden_units*6*6),\n",
        "            nn.ReLU(),\n",
        "            nn.Dropout(0.3))\n",
        "\n",
        "    self.bloc11 = nn.Sequential(\n",
        "          LinearWithRegularization(hidden_units*6*6, hidden_units*6*6, l1_reg=0.01, l2_reg=0.01),\n",
        "          nn.LogSoftmax(dim=1))\n",
        "\n",
        "\n",
        "  def forward(self, x):\n",
        "    x = self.bloc1(x)\n",
        "    x = self.bloc2(x)\n",
        "    x = self.bloc3(x)\n",
        "    x = self.bloc4(x)\n",
        "    x = self.bloc5(x)\n",
        "    x = self.bloc6(x)\n",
        "    x = self.bloc7(x)\n",
        "    x = self.bloc8(x)\n",
        "    x = self.bloc9(x)\n",
        "    x = self.bloc10(x)\n",
        "    x = self.bloc11(x)\n",
        "\n",
        "\n",
        "    return x"
      ]
    },
    {
      "cell_type": "code",
      "execution_count": null,
      "metadata": {
        "id": "XiFZyMxgULsw"
      },
      "outputs": [],
      "source": [
        "model_1 = Face_im_rec_model_1(input_shape=1,\n",
        "                              hidden_units=10,\n",
        "                              output_shape=7).to(device)"
      ]
    },
    {
      "cell_type": "markdown",
      "metadata": {
        "id": "q_-lePsXT4F_"
      },
      "source": [
        "# **Training and testing model_1 using our training and test functions**"
      ]
    },
    {
      "cell_type": "code",
      "execution_count": null,
      "metadata": {
        "colab": {
          "base_uri": "https://localhost:8080/"
        },
        "id": "ZJ58Wj6qSOSK",
        "outputId": "961b8cf6-013c-4145-cd95-5735c53a5ec2"
      },
      "outputs": [
        {
          "data": {
            "text/plain": [
              "torch.Size([1, 360])"
            ]
          },
          "execution_count": 33,
          "metadata": {},
          "output_type": "execute_result"
        }
      ],
      "source": [
        "x = train_features_batch[0]\n",
        "x.shape,x.unsqueeze(dim=0).shape\n",
        "model_1(x.unsqueeze(dim=0).to(device)).shape"
      ]
    },
    {
      "cell_type": "code",
      "execution_count": null,
      "metadata": {
        "id": "-4X9TVH5SOU5"
      },
      "outputs": [],
      "source": [
        "# setup loss function/eval metrics/optimizer\n",
        "loss_fn1 = nn.CrossEntropyLoss()\n",
        "optimizer1 = torch.optim.Adam(params=model_1.parameters(),\n",
        "                             lr=0.00001)"
      ]
    },
    {
      "cell_type": "code",
      "execution_count": null,
      "metadata": {
        "colab": {
          "background_save": true,
          "base_uri": "https://localhost:8080/"
        },
        "id": "KJjHE4ucSOXg",
        "outputId": "2e66cae9-473e-4112-fea2-c2e7dbabec78"
      },
      "outputs": [
        {
          "name": "stderr",
          "output_type": "stream",
          "text": [
            "\r  0%|          | 0/50 [00:00<?, ?it/s]"
          ]
        },
        {
          "name": "stdout",
          "output_type": "stream",
          "text": [
            "Epoch:0\n",
            "---------\n"
          ]
        },
        {
          "name": "stderr",
          "output_type": "stream",
          "text": [
            "\n",
            "0it [00:00, ?it/s]\u001b[A\n",
            "1it [1:34:43, 5683.94s/it]\u001b[A\n",
            "2it [3:10:03, 5705.09s/it]\u001b[A"
          ]
        }
      ],
      "source": [
        "from sklearn.model_selection import KFold\n",
        "import numpy as np\n",
        "# Mesure du temps\n",
        "from timeit import default_timer as timer\n",
        "train_time_start_model_1 = timer()\n",
        "\n",
        "# Nombre d'époques\n",
        "epochs = 50\n",
        "for epoch in tqdm(range(epochs)):\n",
        "  print(f\"Epoch:{epoch}\\n---------\")\n",
        "  train_step_with_cv(model=model_1,\n",
        "                   loss_fn=loss_fn1,\n",
        "                   optimizer=optimizer1,\n",
        "                   accuracy_fn=f1_score_fn,\n",
        "                   data_loader=train_loader1,\n",
        "                     device=device)# Utilisez les données du pli actuel\n",
        "  test_step(model=model_1,\n",
        "                  loss_fn=loss_fn1,\n",
        "                  accuracy_fn=f1_score_fn,\n",
        "                  device=device)\n",
        "        # Imprimez combien d'échantillons ont été vus\n",
        "  if BATCH_SIZE % 400 == 0:\n",
        "    print(f\"Looked at {64 * len(epoch)}/{len(train_loader1.dataset)}\")\n",
        "\n",
        "train_time_end_model_1 = timer()\n",
        "total_train_time_model_1 = print_train_time(start=train_time_start_model_1,\n",
        "                                            end=train_time_end_model_1,data_loader=test_loader1,device=device)  # Utilisez les données de test du pli actuel"
      ]
    },
    {
      "cell_type": "code",
      "execution_count": null,
      "metadata": {
        "id": "XFJauf5skp4j"
      },
      "outputs": [],
      "source": [
        "import torch\n",
        "import torch.nn as nn\n",
        "\n",
        "class VGG16Model(nn.Module):\n",
        "    def __init__(self, input_shape, hidden_units, output_shape):\n",
        "        super(VGG16Model, self).__init__()\n",
        "\n",
        "        # Define convolutional layers\n",
        "        self.block1 = nn.Sequential(\n",
        "            nn.Conv2d(in_channels=input_shape,\n",
        "                  out_channels=hidden_units,\n",
        "                  kernel_size=3,\n",
        "                  stride=1,\n",
        "                  padding=1),\n",
        "            nn.BatchNorm2d(hidden_units),\n",
        "            nn.MaxPool2d(2, 1),\n",
        "            nn.ReLU())\n",
        "\n",
        "        # Global Average Pooling\n",
        "        self.block2 = nn.AdaptiveAvgPool2d(1)\n",
        "\n",
        "        # Fully connected layer (prediction)\n",
        "        self.block3 = nn.Sequential(\n",
        "            nn.Flatten(),\n",
        "            nn.Linear(hidden_units, output_shape),\n",
        "            nn.Softmax(dim=1))\n",
        "        # Geler les paramètres\n",
        "        for param in self.parameters():\n",
        "            param.requires_grad = False\n",
        "\n",
        "    def forward(self, x):\n",
        "        x = self.block1(x)\n",
        "        x = self.block2(x)\n",
        "        x = self.block3(x)\n",
        "\n",
        "        return x\n"
      ]
    },
    {
      "cell_type": "code",
      "execution_count": null,
      "metadata": {
        "id": "9vaEeTGlopQ3"
      },
      "outputs": [],
      "source": [
        "model_2 = VGG16Model(input_shape=1,\n",
        "                              hidden_units=10,\n",
        "                              output_shape=7).to(device)"
      ]
    },
    {
      "cell_type": "code",
      "execution_count": null,
      "metadata": {
        "id": "zSnExRhJkRwM"
      },
      "outputs": [],
      "source": [
        "x = train_features_batch[0]\n",
        "x.shape,x.unsqueeze(dim=0).shape\n",
        "model_2(x.unsqueeze(dim=0).to(device)).shape"
      ]
    },
    {
      "cell_type": "code",
      "execution_count": null,
      "metadata": {
        "id": "PQpGGCiDkRzV"
      },
      "outputs": [],
      "source": [
        "from sklearn.model_selection import KFold\n",
        "import numpy as np\n",
        "# Mesure du temps\n",
        "from timeit import default_timer as timer\n",
        "train_time_start_model_1 = timer()\n",
        "log_variances = torch.tensor([0.1, 0.2])\n",
        "# Nombre d'époques\n",
        "epochs = 50\n",
        "for epoch in tqdm(range(epochs)):\n",
        "  print(f\"Epoch:{epoch}\\n---------\")\n",
        "  train_step_with_cv(model=model_2,\n",
        "                   data_loader=train_loader1,  # Utilisez les données du pli actuel\n",
        "                   loss_fn=loss_fn1,\n",
        "                   optimizer=optimizer1,\n",
        "                   accuracy_fn=f1_score_fn,\n",
        "                   device=device)\n",
        "  test_step(model=model_2,\n",
        "                  data_loader=test_loader1,  # Utilisez les données de test du pli actuel\n",
        "                  loss_fn=loss_fn1,\n",
        "                  accuracy_fn=f1_score_fn(X,y,log_variances),\n",
        "                  device=device)\n",
        "        # Imprimez combien d'échantillons ont été vus\n",
        "  if BATCH_SIZE % 400 == 0:\n",
        "    print(f\"Looked at {64 * len(epoch)}/{len(train_loader1.dataset)}\")\n",
        "\n",
        "train_time_end_model_1 = timer()\n",
        "total_train_time_model_1 = print_train_time(start=train_time_start_model_1,\n",
        "                                            end=train_time_end_model_1,\n",
        "                                            device=device)\n"
      ]
    }
  ],
  "metadata": {
    "accelerator": "GPU",
    "colab": {
      "provenance": []
    },
    "kernelspec": {
      "display_name": "Python 3",
      "name": "python3"
    },
    "language_info": {
      "name": "python"
    }
  },
  "nbformat": 4,
  "nbformat_minor": 0
}